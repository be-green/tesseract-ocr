{
 "cells": [
  {
   "cell_type": "code",
   "execution_count": 1,
   "metadata": {},
   "outputs": [],
   "source": [
    "import pytesseract\n",
    "import re\n",
    "from pathlib import Path\n",
    "from PIL import Image"
   ]
  },
  {
   "cell_type": "code",
   "execution_count": 2,
   "metadata": {},
   "outputs": [],
   "source": [
    "ocr_text = pytesseract.image_to_string(Image.open('../samples/tesseract_test.png'))"
   ]
  },
  {
   "cell_type": "code",
   "execution_count": 3,
   "metadata": {},
   "outputs": [
    {
     "name": "stdout",
     "output_type": "stream",
     "text": [
      "A. BASIC IDENTIFICATION DATA\n",
      "2. Enter the information requested for the following:\n",
      "\n",
      "e Each promoter of the issuer, if the issuer has been organized within the past five years;\n",
      "* Each beneficial owner having the power to vote or dispose, or direct the vote or disposition of, 10% or more of a class of equity securities of the issuer:\n",
      "° Each executive officer and director of corporate issuers and of corporate general and managing partners of partnership issuers; and\n",
      "\n",
      "e Each general and managing partner of partnership issuer.\n",
      "Check Box(es) that Apply: [ } Promoter [ ] Beneficial Owner [ ] Executive Officer [x] Director [ ] General and/or Managing Partner\n",
      "\n",
      "Full Name (Last name first, if individual)\n",
      "Van Eeckhout, Gerald D.\n",
      "\n",
      "Business or Residence Address (Number and Street, City, State, Zip Code)\n",
      "1526 Cole Boulevard, Suite 300 Golden, CO 80401\n",
      "\n",
      "Check Box(es) that Apply: [ ] Promoter [ ] Beneficial OWner [x ] Executive Officer [ ] Director [ ] General and/or Managing Partner\n",
      "\n",
      "Full Name (Last name first, if individual)\n",
      "Thomson, Gavin J.\n",
      "\n",
      "Business or Residence Address (Number and Street, City, State, Zip Code)\n",
      "1526 Cole Boulevard, Suite 300 Golden, CO 80401\n",
      "\n",
      "Check Box(es) that Apply: { } Promoter [ ] Beneficial Owner [x] Executive Officer [ ] Director [ ] General and/or Managing Partner\n",
      "\n",
      "Full Name (Last name first, if individual)\n",
      "Warren, Gene\n",
      "\n",
      "Business or Residence Address (Number and Street, City, State, Zip Code)\n",
      "1526 Cole Boulevard, Suite 300 Golden, CO 80401\n",
      "\n",
      "Check Box(es) that Apply: [ }] Promoter [ } Beneficial Owner [ ] Executive Officer [x] Director { ] General and/or Managing Partner\n",
      "\n",
      "Full Name (Last name first, if individual!)\n",
      "Seifert, James F.\n",
      "\n",
      "Business or Residence Address (Number and Street, City, State, Zip Code)\n",
      "1526 Cole Boulevard, Suite 300, Golden, CO 80401\n",
      "\n",
      "Check Box(es) that Apply: { } Promoter [ ] Beneficial Owner [ ] Executive Officer [x] Director [ } General and/or Managing Partner\n",
      "\n",
      "Full Name (Last name first, 1f individual)\n",
      "Bach, Ronald J.\n",
      "\n",
      "Business or Residence Address (Number and Street, City, State, Zip Code)\n",
      "1526 Cole Boulevard, Suite 300 Golden, CO 80401\n",
      "\n",
      "Check Box(es) that Apply: [ ] Promoter [ ] Beneficial Owner [ ] Executive Officer [x] Director [ ] General and/or Managing Partner\n",
      "\n",
      "Full Name (Last name first, if individual)\n",
      "Traynor, Mack V. III\n",
      "\n",
      "Business or Residence Address (Number and Street, City, State, Zip Code)\n",
      "1526 Cole Boulevard, Suite 300 Golden, CO 80401\n",
      "\n",
      "Check Box(es) that Apply: [ } Promoter [ ] Beneficial Owner [ } Executive Officer [x] Director [ ] General and/or Managing Partner\n",
      "\n",
      "Full Name (Last name first, if individual)\n",
      "Bares, Keith\n",
      "\n",
      "Business or Residence Address (Number and Street, City, State, Zip Code)\n",
      "1526 Cole Boulevard, Suite 300, Golden, CO 80401\n",
      "\n",
      "(Continued.)\n",
      "\n",
      "3 of 9\n",
      "\f",
      "\n"
     ]
    }
   ],
   "source": [
    "print(ocr_text)"
   ]
  },
  {
   "cell_type": "code",
   "execution_count": 4,
   "metadata": {},
   "outputs": [
    {
     "name": "stdout",
     "output_type": "stream",
     "text": [
      "Van Eeckhout, Gerald D.\n",
      "Thomson, Gavin J.\n",
      "Warren, Gene\n",
      "Seifert, James F.\n",
      "Bach, Ronald J.\n",
      "Traynor, Mack V. III\n",
      "Bares, Keith\n"
     ]
    }
   ],
   "source": [
    "name_pat = re.compile(r\"Full Name.+\\n^(.+)$\", re.MULTILINE)\n",
    "for m in re.findall(name_pat, ocr_text):\n",
    "    print(m)"
   ]
  },
  {
   "cell_type": "code",
   "execution_count": 5,
   "metadata": {},
   "outputs": [
    {
     "name": "stdout",
     "output_type": "stream",
     "text": [
      "1526 Cole Boulevard, Suite 300 Golden, CO 80401\n",
      "1526 Cole Boulevard, Suite 300 Golden, CO 80401\n",
      "1526 Cole Boulevard, Suite 300 Golden, CO 80401\n",
      "1526 Cole Boulevard, Suite 300, Golden, CO 80401\n",
      "1526 Cole Boulevard, Suite 300 Golden, CO 80401\n",
      "1526 Cole Boulevard, Suite 300 Golden, CO 80401\n",
      "1526 Cole Boulevard, Suite 300, Golden, CO 80401\n"
     ]
    }
   ],
   "source": [
    "address_pat = re.compile(r\"Business or Residence Address.+\\n^(.+)$\", re.MULTILINE)\n",
    "for m in re.findall(address_pat, ocr_text):\n",
    "    print(m)"
   ]
  }
 ],
 "metadata": {
  "kernelspec": {
   "display_name": "Python 3",
   "language": "python",
   "name": "python3"
  },
  "language_info": {
   "codemirror_mode": {
    "name": "ipython",
    "version": 3
   },
   "file_extension": ".py",
   "mimetype": "text/x-python",
   "name": "python",
   "nbconvert_exporter": "python",
   "pygments_lexer": "ipython3",
   "version": "3.8.5"
  }
 },
 "nbformat": 4,
 "nbformat_minor": 4
}
