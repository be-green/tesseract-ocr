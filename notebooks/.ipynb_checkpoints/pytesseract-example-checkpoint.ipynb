{
 "cells": [
  {
   "cell_type": "code",
   "execution_count": 6,
   "metadata": {},
   "outputs": [],
   "source": [
    "import pytesseract\n",
    "import re\n",
    "from pathlib import Path\n",
    "from PIL import Image"
   ]
  },
  {
   "cell_type": "code",
   "execution_count": 9,
   "metadata": {},
   "outputs": [],
   "source": [
    "ocr_text = pytesseract.image_to_string(Image.open('/Users/willthompson/Code/kellogg/tesseract-ocr/tests/data/output/04000085-page-1.png'))"
   ]
  },
  {
   "cell_type": "code",
   "execution_count": 10,
   "metadata": {},
   "outputs": [
    {
     "name": "stdout",
     "output_type": "stream",
     "text": [
      " \n",
      "   \n",
      "\n",
      "Enter the infor\n",
      "@ Each promoter of the issuer, if the issuer has been organized within the past five years,\n",
      "\n",
      "e Each beneficial owner having the power to vote or dispose, or direct the vote or disposition of, 10% or more of a class of equity securities of the issuer,\n",
      "e Each executive officer and director of corporate issuers and of corporate general and managing partners of partnership issuers; and\n",
      "\n",
      "@ Each general and managing partner of partnership issuers.\n",
      "\n",
      " \n",
      "\n",
      "Check Box(es) that Apply: O Promoter Ay Beneficial Owner &) Executive Officer R) Director oO General and/or\n",
      "Managing Partner\n",
      "\n",
      " \n",
      "\n",
      "Full Name (Last name first, if individual)\n",
      "McClaugherty, John W.\n",
      "\n",
      "Business or Residence Address (Number and Street, City, State, Zip Code)\n",
      "#3 Bendcrest Place, Charleston, WV 25314\n",
      "\n",
      " \n",
      "\n",
      " \n",
      "\n",
      "Check Box(es) that Apply: [[] Promoter [] Beneficial Owner [KX] Executive Officer [[] Director [_] General and/or\n",
      "Managing Partner\n",
      "\n",
      "Full Name (Last name first, if individual)\n",
      "Foster, Todd\n",
      "\n",
      "Business or Residence Address (Number and Street, City, State, Zip Code)\n",
      "678 Sherwood Road, Atlanta, GA 30324\n",
      "\n",
      "Check Box(es) that Apply: [[] Promoter (\"] Beneficial Owner ) Executive Officer &) Director [-] General and/or\n",
      "Managing Partner\n",
      "\n",
      " \n",
      "\n",
      " \n",
      "\n",
      " \n",
      "\n",
      " \n",
      "\n",
      "Full Name (Last name first, if individual)\n",
      "Tedesco, Francis J.\n",
      "\n",
      "Business or Residence Address (Number and Street, City, State, Zip Code)\n",
      "2810 Peachtree Place, Augusta, GA 30909\n",
      "\n",
      "Check Box(es) that Apply: [] Promoter  [X] Beneficial Owner [] Executive Officer 9) Director [) General and/or\n",
      "Managing Partner\n",
      "\n",
      " \n",
      "\n",
      "Full Name (Last name first, if individual)\n",
      "\n",
      "Wood, W. Keith\n",
      "Business or Residence Address (Number and Street, City, State, Zip Code)\n",
      "\n",
      "6680 Castleton Drive, NW, Atlanta, GA 30328\n",
      "\n",
      "Check Box(es) that Apply: [] Promoter 4 Beneficial Owner [[] Executive Officer [[] Director [-] General and/or\n",
      "Managing Partner\n",
      "\n",
      " \n",
      "\n",
      " \n",
      "\n",
      "Full Name (Last name first, if individual)\n",
      "Guest, R. Bradley\n",
      "\n",
      "Business or Residence Address (Number and Street, City, State, Zip Code)\n",
      "1361 Pinebreeze Court, Marietta, GA 30062\n",
      "\n",
      "Check Box(es) that Apply: [[] Promoter [[] Beneficial Owner [7] Executive Officer [7] Director [_] General and/or\n",
      "Managing Partner\n",
      "\n",
      " \n",
      "\n",
      " \n",
      "\n",
      "Full Name (Last name first, if individual)\n",
      "\n",
      " \n",
      "\n",
      "Business or Residence Address (Number and Street, City, State, Zip Code)\n",
      "\n",
      " \n",
      "\n",
      "Check Box(es) that Apply: [(] Promoter [[] Beneficial Owner [] Executive Officer [7] Director [] General and/or\n",
      "Managing Partner\n",
      "\n",
      "Full Name (Last name first, if individual)\n",
      "\n",
      "Business or Residence Address (Number and Street, City, State, Zip Code)\n",
      "\n",
      "(Use blank sheet, or copy and use additional copies of this sheet, as necessary)\n",
      "\n",
      "2 of 9\n",
      "\f",
      "\n"
     ]
    }
   ],
   "source": [
    "print(ocr_text)"
   ]
  },
  {
   "cell_type": "code",
   "execution_count": 11,
   "metadata": {},
   "outputs": [
    {
     "name": "stdout",
     "output_type": "stream",
     "text": [
      "McClaugherty, John W.\n",
      "Foster, Todd\n",
      "Tedesco, Francis J.\n",
      "Guest, R. Bradley\n"
     ]
    }
   ],
   "source": [
    "name_pat = re.compile(r\"Full Name.+\\n^(.+)$\", re.MULTILINE)\n",
    "for m in re.findall(name_pat, ocr_text):\n",
    "    print(m)"
   ]
  },
  {
   "cell_type": "code",
   "execution_count": 12,
   "metadata": {},
   "outputs": [
    {
     "name": "stdout",
     "output_type": "stream",
     "text": [
      "#3 Bendcrest Place, Charleston, WV 25314\n",
      "678 Sherwood Road, Atlanta, GA 30324\n",
      "2810 Peachtree Place, Augusta, GA 30909\n",
      "1361 Pinebreeze Court, Marietta, GA 30062\n"
     ]
    }
   ],
   "source": [
    "address_pat = re.compile(r\"Business or Residence Address.+\\n^(.+)$\", re.MULTILINE)\n",
    "for m in re.findall(address_pat, ocr_text):\n",
    "    print(m)"
   ]
  }
 ],
 "metadata": {
  "kernelspec": {
   "display_name": "Python 3",
   "language": "python",
   "name": "python3"
  },
  "language_info": {
   "codemirror_mode": {
    "name": "ipython",
    "version": 3
   },
   "file_extension": ".py",
   "mimetype": "text/x-python",
   "name": "python",
   "nbconvert_exporter": "python",
   "pygments_lexer": "ipython3",
   "version": "3.8.5"
  }
 },
 "nbformat": 4,
 "nbformat_minor": 4
}
