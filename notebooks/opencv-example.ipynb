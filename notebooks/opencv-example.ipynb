{
 "cells": [
  {
   "cell_type": "code",
   "execution_count": 94,
   "metadata": {},
   "outputs": [],
   "source": [
    "import cv2\n",
    "import re\n",
    "import numpy as np\n",
    "from pathlib import Path\n",
    "from PIL import Image"
   ]
  },
  {
   "cell_type": "code",
   "execution_count": 95,
   "metadata": {},
   "outputs": [],
   "source": [
    "img_path = '/Users/willthompson/Code/kellogg/tesseract-ocr/tests/data/output/9999999997-05-031562-index-page-1.png'"
   ]
  },
  {
   "cell_type": "code",
   "execution_count": 96,
   "metadata": {},
   "outputs": [],
   "source": [
    "ocr_text = pytesseract.image_to_string(Image.open(img_path))"
   ]
  },
  {
   "cell_type": "code",
   "execution_count": 97,
   "metadata": {},
   "outputs": [],
   "source": [
    "# print(ocr_text)"
   ]
  },
  {
   "cell_type": "code",
   "execution_count": 98,
   "metadata": {},
   "outputs": [
    {
     "data": {
      "text/plain": [
       "True"
      ]
     },
     "execution_count": 98,
     "metadata": {},
     "output_type": "execute_result"
    }
   ],
   "source": [
    "img = cv2.imread(img_path)\n",
    "    \n",
    "# Apply dilation and erosion to remove some noise\n",
    "kernel = np.ones((1, 1), np.uint8)\n",
    "img = cv2.dilate(img, kernel, iterations=1)\n",
    "img = cv2.erode(img, kernel, iterations=1)\n",
    "    \n",
    "# Apply blur to smooth out the edges\n",
    "img = cv2.GaussianBlur(img, (5, 5), 0)\n",
    "\n",
    "img = cv2.threshold(img,175,255,cv2.THRESH_BINARY)[1]\n",
    "\n",
    "# img = cv2.threshold(img,125,255,cv2.THRESH_BINARY)[1]\n",
    "cv2.imwrite(\"test.png\", img)"
   ]
  },
  {
   "cell_type": "code",
   "execution_count": 99,
   "metadata": {},
   "outputs": [],
   "source": [
    "ocr_text_2 = pytesseract.image_to_string(img, lang=\"eng\")"
   ]
  },
  {
   "cell_type": "code",
   "execution_count": 85,
   "metadata": {},
   "outputs": [
    {
     "name": "stdout",
     "output_type": "stream",
     "text": [
      "A. BASIC IDENTIFICATION DATA\n",
      "\n",
      " \n",
      "\n",
      "2. Enter the information requested for the following:\n",
      ". Each promoter of the issuer. if the issuer has been organized within the past five years:\n",
      "° Each beneficial owner having the power to vote or dispose. or direct the vote or disposition of, 10% or more of a class of equity securities of\n",
      "the issuer:\n",
      ". Each executive officer and director of corporate issuers of corporate general and managing partners of partnership issuers; and\n",
      "° Each general and managing partner of partnership issuers.\n",
      "Check Box(es) that Apply: O Promoter G Beneficial Owner C Executive Officer © Director (2 General and/or\n",
      "\n",
      "Managing Partner\n",
      "\n",
      " \n",
      "\n",
      "Full Name (Last name first, if individual)\n",
      "Newport Asia LLC\n",
      "\n",
      "Business or Residence Address = (Number and Street. City, State. Zip Code)\n",
      "601 California Street, Suite 600, San Francisco, CA 94108\n",
      "\n",
      " \n",
      "\n",
      "Check Box(es) that Apply’ Promoter’ © BeneficialOwner  (] Executive Officer © Director’ ‘ O. General and/or\n",
      "obo : : _ +.Managing Partner\n",
      "\n",
      " \n",
      "\n",
      "Full Name:(Last name first, if individual)\n",
      "Mussey, John. Miller .\n",
      "\n",
      " \n",
      "\n",
      "Business or Residence Address © (Number and Street, City, State. Zip Code)\n",
      "601 California Street, Suite 600, San Francisco, CA 94108\n",
      "\n",
      " \n",
      "\n",
      "Check Box(es) that Apply: O Promoter GO Beneficial Owner GB) Executive Officer = Director © General and/or\n",
      "Managing Partner\n",
      "\n",
      " \n",
      "\n",
      "Full Name (Last name first. if individual)\n",
      "Tuttle, Thomas Rogerson\n",
      "\n",
      " \n",
      "\n",
      "Business or Residence Address (Number and Street, City. State. Zip Code)\n",
      "601 California Street, Suite 600, San Francisco, CA 94108\n",
      "\n",
      " \n",
      "\n",
      "Check Box(es) that Apply: 0 Promoter C Beneficial Owner (© Executive Officer Q_ Director. .G General and/or\n",
      "ra : : Managing Partner\n",
      "\n",
      " \n",
      "\n",
      "Fult‘Name (Last name first, if individual) p\n",
      "Ellis, Michael : :\n",
      "\n",
      " \n",
      "\n",
      "Business or Residence Address (Number and Street, City, State, Zip Code)\n",
      "601 California Street, Suite 600, San Francisco, CA 94108\n",
      "\n",
      " \n",
      "\n",
      "Check Box(es) that Apply: Q Promoter © Beneficial! Owner B) Executive Officer O Director (© Gencral and/or\n",
      "Managing Partner\n",
      "\n",
      " \n",
      "\n",
      "Full Name (Last name first, if individual)\n",
      "Legallet, Christopher\n",
      "\n",
      "Business or Residence Address (Number and Street, City, State, Zip Code)\n",
      "601 California Street, Suite 600, San Francisco, CA 94108\n",
      "\n",
      " \n",
      "\n",
      "Check Box(es) that Apply: © Promoter 0 Beneficial Owner D Executive Officer © Director 0 General and/or\n",
      "See . ; . “\\) Managing Partner\n",
      "\n",
      " \n",
      "\n",
      "Full Name (Last name first, if individual) Loa\n",
      "\n",
      " \n",
      "\n",
      "Business,or Residence Address = (Number and Street, City, State, Zip Code)\n",
      "\n",
      " \n",
      "\n",
      "Check Box(es) that Apply: O Promoter QO Beneficial Owner O Executive Officer OF Director O General and/or\n",
      "Managing Partner\n",
      "\n",
      " \n",
      "\n",
      "Full Name (Last name first, if individual)\n",
      "\n",
      " \n",
      "\n",
      "Business or Residence Address = (Number and Street. City. State, Zip Code)\n",
      "\n",
      " \n",
      "\n",
      "(Use blank sheet. or copy and use additional copies of this sheet. as necessary.)\n",
      "\n",
      "2 of 9\n",
      "\f",
      "\n"
     ]
    }
   ],
   "source": [
    "print(ocr_text_2)"
   ]
  },
  {
   "cell_type": "code",
   "execution_count": 93,
   "metadata": {},
   "outputs": [
    {
     "name": "stdout",
     "output_type": "stream",
     "text": [
      "Newport Asia LLC\n",
      "Mussey, John. Miller .\n",
      "Tuttle, Thomas Rogerson\n",
      "Ellis, Michael : :\n",
      "Legallet, Christopher\n"
     ]
    }
   ],
   "source": [
    "name_pat = re.compile(r\".+Name.+\\n^(.+)$\", re.MULTILINE)\n",
    "for m in re.findall(name_pat, ocr_text_2):\n",
    "    print(m)"
   ]
  },
  {
   "cell_type": "code",
   "execution_count": null,
   "metadata": {},
   "outputs": [],
   "source": []
  }
 ],
 "metadata": {
  "kernelspec": {
   "display_name": "Python 3",
   "language": "python",
   "name": "python3"
  },
  "language_info": {
   "codemirror_mode": {
    "name": "ipython",
    "version": 3
   },
   "file_extension": ".py",
   "mimetype": "text/x-python",
   "name": "python",
   "nbconvert_exporter": "python",
   "pygments_lexer": "ipython3",
   "version": "3.8.5"
  }
 },
 "nbformat": 4,
 "nbformat_minor": 4
}
