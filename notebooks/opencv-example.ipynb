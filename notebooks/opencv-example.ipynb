{
 "cells": [
  {
   "cell_type": "code",
   "execution_count": 5,
   "metadata": {},
   "outputs": [],
   "source": [
    "import cv2\n",
    "import re\n",
    "import numpy as np\n",
    "import pytesseract\n",
    "from pathlib import Path\n",
    "from PIL import Image"
   ]
  },
  {
   "cell_type": "code",
   "execution_count": 9,
   "metadata": {},
   "outputs": [],
   "source": [
    "img_path = \"../tests/data/sec-sample-pdf/9999999997-12-008041-index/9999999997-12-008041-index-page-2.png\""
   ]
  },
  {
   "cell_type": "code",
   "execution_count": 10,
   "metadata": {},
   "outputs": [],
   "source": [
    "ocr_text = pytesseract.image_to_string(Image.open(img_path))"
   ]
  },
  {
   "cell_type": "code",
   "execution_count": 11,
   "metadata": {},
   "outputs": [],
   "source": [
    "# print(ocr_text)"
   ]
  },
  {
   "cell_type": "code",
   "execution_count": 22,
   "metadata": {},
   "outputs": [
    {
     "data": {
      "text/plain": [
       "True"
      ]
     },
     "execution_count": 22,
     "metadata": {},
     "output_type": "execute_result"
    }
   ],
   "source": [
    "img = cv2.imread(img_path)\n",
    "\n",
    "img = cv2.threshold(img,200,255,cv2.THRESH_BINARY)[1]\n",
    "\n",
    "# Apply dilation and erosion to remove some noise\n",
    "kernel = np.ones((1, 1), np.uint8)\n",
    "img = cv2.dilate(img, kernel, iterations=1)\n",
    "img = cv2.erode(img, kernel, iterations=1)\n",
    "    \n",
    "# Apply blur to smooth out the edges\n",
    "img = cv2.GaussianBlur(img, (5, 5), 0)\n",
    "\n",
    "\n",
    "# img = cv2.threshold(img,125,255,cv2.THRESH_BINARY)[1]\n",
    "cv2.imwrite(\"test.png\", img)"
   ]
  },
  {
   "cell_type": "code",
   "execution_count": 23,
   "metadata": {},
   "outputs": [],
   "source": [
    "ocr_text_2 = pytesseract.image_to_string(img, lang=\"eng\")"
   ]
  },
  {
   "cell_type": "code",
   "execution_count": 24,
   "metadata": {},
   "outputs": [
    {
     "name": "stdout",
     "output_type": "stream",
     "text": [
      " \n",
      "\n",
      "2. Enter the information requested for the following:\n",
      "\n",
      "* — Each promoter of the issuer, if the issuer has been organized within the past five years;\n",
      "\n",
      "* Bach beneficial owner having the power to vote or dispose, or direct the vote or disposition of, 10% or more of a class of equity securities\n",
      "of the issuer;\n",
      "* — Bach executive officer and director of corporate issuers and of corporate general and managing partners of partnership issuers, and\n",
      "\n",
      "* Bach general and managin er of partnership issuers.\n",
      "\n",
      "Check Box(es) that Apply: © Promoter © Beneficial Owner © Executive Officer © Director @J Managing Partner*\n",
      "* Issuer's Investment Manager\n",
      "\n",
      " \n",
      "\n",
      " \n",
      "\n",
      "Full Name (Last name first, if individual)\n",
      "\n",
      "Goldman Sachs Asset Management, L.P.\n",
      "\n",
      "Business or Residence Address (Number and Street, City, State, Zip Code)\n",
      "\n",
      "clo Goldman, Sachs & Co., One New York Plaza New York 10004\n",
      "5 J +.\n",
      "\n",
      "(nec xtes) hap Appi Mame CL Promoter ans” Bedencia\n",
      "ee\n",
      "ie J BY\n",
      "\n",
      " \n",
      "\n",
      "       \n",
      "  \n",
      "  \n",
      "\n",
      " \n",
      "\n",
      "ie ee\n",
      "O General and/or\n",
      "Managing Partner\n",
      "\n",
      " \n",
      "\n",
      "   \n",
      "\n",
      "of the Issuer’s General Partner\n",
      "\n",
      "Full Name (Last name first, if individual)\n",
      "\n",
      "Barbetta, Jennifer\n",
      "\n",
      "Business or Residence Address (Number and Street, City, State, Zip Code)\n",
      "\n",
      "clo Goldman, Sachs & Co, One New York Plaza, New York, New\n",
      "\n",
      " \n",
      "\n",
      "ets\n",
      "\n",
      "re ios\n",
      "\n",
      "One NeWsr Of age c ey\n",
      "\n",
      "er © Beneficial Owner 2 Executive Officer O Director © General and/or\n",
      "\n",
      "B45} ‘ Ee\n",
      "Check Box(es) that Apply: © Promot\n",
      "{of the issuer's General Partner) Managing Partner\n",
      "\n",
      "Full Name (Last name first, if individual)\n",
      "Adler, Ben\n",
      "Business or Residence Address (Number and Street, City, State, Zip Code)\n",
      "\n",
      "10 é yur 5\n",
      "Ie 51 n prorkKRlazarn Kt y; ; ee Q Fs\n",
      "Check Box(es) that Apply; D Promoter O Beneficial Owner @ Executive Officer O Director O General and/or\n",
      "(of the Issuer's General Partner) Managing Partner\n",
      "\n",
      "Full Name (Last name first, if individual)\n",
      "Boucher, an\n",
      "Business or Residence Address (Number and Street, City, State, Zip Code)\n",
      "clo Goldman, Sachs & Co, One New York Plaza, New York, New York 10004\n",
      "\n",
      "eck Box(es) that Apply: © Promoter © Beneficial Owner J Executive Officer (1 Director ( General and/or\n",
      "\n",
      "Chi\n",
      "(of the Issuer’s General Partner) Managing Partner\n",
      "\n",
      "Full Name (Last name first, if individual)\n",
      "\n",
      "Galvin, Michael\n",
      "Business or Residence Address (Number and Street, City, State, Zip Code)\n",
      "\n",
      "clo Goldman, Sachs & Co, One New York Plaza, New York, New York 10004\n",
      "\n",
      "clo Goldman, Sachs & Co, One New York Flaza, New Lok, <<* ee\n",
      "(Use blank sheet, or copy and use additional copies of this sheet, as necessary.)\n",
      "\n",
      "2o0f9 SEC 1972 (7-00)\n",
      "\f",
      "\n"
     ]
    }
   ],
   "source": [
    "print(ocr_text_2)"
   ]
  },
  {
   "cell_type": "code",
   "execution_count": 25,
   "metadata": {},
   "outputs": [
    {
     "name": "stdout",
     "output_type": "stream",
     "text": [
      "Adler, Ben\n",
      "Boucher, an\n"
     ]
    }
   ],
   "source": [
    "name_pat = re.compile(r\".+Name.+\\n^(.+)$\", re.MULTILINE)\n",
    "for m in re.findall(name_pat, ocr_text_2):\n",
    "    print(m)"
   ]
  }
 ],
 "metadata": {
  "kernelspec": {
   "display_name": "Python 3",
   "language": "python",
   "name": "python3"
  },
  "language_info": {
   "codemirror_mode": {
    "name": "ipython",
    "version": 3
   },
   "file_extension": ".py",
   "mimetype": "text/x-python",
   "name": "python",
   "nbconvert_exporter": "python",
   "pygments_lexer": "ipython3",
   "version": "3.8.5"
  }
 },
 "nbformat": 4,
 "nbformat_minor": 4
}
